{
 "metadata": {
  "language_info": {
   "codemirror_mode": {
    "name": "ipython",
    "version": 3
   },
   "file_extension": ".py",
   "mimetype": "text/x-python",
   "name": "python",
   "nbconvert_exporter": "python",
   "pygments_lexer": "ipython3",
   "version": "3.9.0-final"
  },
  "orig_nbformat": 2,
  "kernelspec": {
   "name": "python3",
   "display_name": "Python 3.9.0 64-bit",
   "metadata": {
    "interpreter": {
     "hash": "c49414725a10925ce64f1a7c91399f6a4823416942062340df486dba231dfa6d"
    }
   }
  }
 },
 "nbformat": 4,
 "nbformat_minor": 2,
 "cells": [
  {
   "source": [
    "# How all countries values their own products and facilities in export international trade"
   ],
   "cell_type": "markdown",
   "metadata": {}
  },
  {
   "source": [
    "## Getting started:\n",
    "\n",
    "1- To run the code, you have to download the dataset (1,32 GB) from this adress: https://www.dropbox.com/s/6vljjbhy4y3ktdf/Trade_Crops_Livestock_E_All_Data_%28Normalized%29_COUNTRIES_ONLY.csv?dl=0\n",
    "\n",
    "2- Save this file on the main_project folder to run the code.\n",
    "\n",
    "3- The data contains different info to get information about the international trade on crops and facilities arround the world:\n",
    "\n",
    "> 1- More than 160 countries and groups  \n",
    "2- 4 different values of general info:  \n",
    "> - Import and Export values in 1.000 &  \n",
    "- Import and Export quantity in tonnes  \n",
    ">\n",
    "3- More than 180 different items about crops and facilities on each country  \n",
    "\n",
    "4- When you run the \"Easy code\" below, it will generate a \"figures/\" directory to save my study charts.\n",
    "\n",
    "5- If you want to check other kind of data, you have to modifi it in the .py file, because this is actualy to generate the requirements for a project.\n",
    "\n",
    "TBA: New web integration to get a better user experience.\n",
    "\n",
    "**HOPE YOU ENJOY**\n",
    "\n",
    "**Roberto Molleda  \n",
    "Jan/2021**\n",
    "\n"
   ],
   "cell_type": "markdown",
   "metadata": {}
  },
  {
   "cell_type": "code",
   "execution_count": 2,
   "metadata": {},
   "outputs": [],
   "source": [
    "import functions_EDA"
   ]
  }
 ]
}